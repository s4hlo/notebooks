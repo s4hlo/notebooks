{
  "nbformat": 4,
  "nbformat_minor": 0,
  "metadata": {
    "colab": {
      "provenance": [],
      "authorship_tag": "ABX9TyOZmgpH1CSCvV67ZeFGn4S/",
      "include_colab_link": true
    },
    "kernelspec": {
      "name": "python3",
      "display_name": "Python 3"
    },
    "language_info": {
      "name": "python"
    }
  },
  "cells": [
    {
      "cell_type": "markdown",
      "metadata": {
        "id": "view-in-github",
        "colab_type": "text"
      },
      "source": [
        "<a href=\"https://colab.research.google.com/github/s4hlo/notebooks/blob/main/subtitles_delayer.ipynb\" target=\"_parent\"><img src=\"https://colab.research.google.com/assets/colab-badge.svg\" alt=\"Open In Colab\"/></a>"
      ]
    },
    {
      "cell_type": "code",
      "execution_count": null,
      "metadata": {
        "colab": {
          "base_uri": "https://localhost:8080/",
          "height": 339
        },
        "id": "lr3S4WSSa1Ly",
        "outputId": "f6575eab-a8bd-407e-98d3-cea255011362"
      },
      "outputs": [
        {
          "output_type": "error",
          "ename": "FileNotFoundError",
          "evalue": "ignored",
          "traceback": [
            "\u001b[0;31m---------------------------------------------------------------------------\u001b[0m",
            "\u001b[0;31mFileNotFoundError\u001b[0m                         Traceback (most recent call last)",
            "\u001b[0;32m<ipython-input-1-9c6eb0574b09>\u001b[0m in \u001b[0;36m<cell line: 56>\u001b[0;34m()\u001b[0m\n\u001b[1;32m     54\u001b[0m \u001b[0;34m\u001b[0m\u001b[0m\n\u001b[1;32m     55\u001b[0m \u001b[0;34m\u001b[0m\u001b[0m\n\u001b[0;32m---> 56\u001b[0;31m \u001b[0mshift_srt_forward\u001b[0m\u001b[0;34m(\u001b[0m\u001b[0;34m'/content/legenda.srt'\u001b[0m\u001b[0;34m,\u001b[0m \u001b[0;36m1\u001b[0m\u001b[0;34m)\u001b[0m\u001b[0;34m\u001b[0m\u001b[0;34m\u001b[0m\u001b[0m\n\u001b[0m\u001b[1;32m     57\u001b[0m \u001b[0mprint\u001b[0m\u001b[0;34m(\u001b[0m\u001b[0;34m\"deu certo\"\u001b[0m\u001b[0;34m)\u001b[0m\u001b[0;34m\u001b[0m\u001b[0;34m\u001b[0m\u001b[0m\n",
            "\u001b[0;32m<ipython-input-1-9c6eb0574b09>\u001b[0m in \u001b[0;36mshift_srt_forward\u001b[0;34m(filename, delta)\u001b[0m\n\u001b[1;32m      3\u001b[0m \u001b[0;34m\u001b[0m\u001b[0m\n\u001b[1;32m      4\u001b[0m \u001b[0;32mdef\u001b[0m \u001b[0mshift_srt_forward\u001b[0m\u001b[0;34m(\u001b[0m\u001b[0mfilename\u001b[0m\u001b[0;34m,\u001b[0m \u001b[0mdelta\u001b[0m\u001b[0;34m)\u001b[0m\u001b[0;34m:\u001b[0m\u001b[0;34m\u001b[0m\u001b[0;34m\u001b[0m\u001b[0m\n\u001b[0;32m----> 5\u001b[0;31m     \u001b[0;32mwith\u001b[0m \u001b[0mopen\u001b[0m\u001b[0;34m(\u001b[0m\u001b[0mfilename\u001b[0m\u001b[0;34m,\u001b[0m \u001b[0;34m'r'\u001b[0m\u001b[0;34m)\u001b[0m \u001b[0;32mas\u001b[0m \u001b[0mfile\u001b[0m\u001b[0;34m:\u001b[0m\u001b[0;34m\u001b[0m\u001b[0;34m\u001b[0m\u001b[0m\n\u001b[0m\u001b[1;32m      6\u001b[0m         \u001b[0mlines\u001b[0m \u001b[0;34m=\u001b[0m \u001b[0mfile\u001b[0m\u001b[0;34m.\u001b[0m\u001b[0mreadlines\u001b[0m\u001b[0;34m(\u001b[0m\u001b[0;34m)\u001b[0m\u001b[0;34m\u001b[0m\u001b[0;34m\u001b[0m\u001b[0m\n\u001b[1;32m      7\u001b[0m \u001b[0;34m\u001b[0m\u001b[0m\n",
            "\u001b[0;31mFileNotFoundError\u001b[0m: [Errno 2] No such file or directory: '/content/legenda.srt'"
          ]
        }
      ],
      "source": [
        "import datetime\n",
        "import re\n",
        "\n",
        "def shift_srt_forward(filename, delta):\n",
        "    with open(filename, 'r') as file:\n",
        "        lines = file.readlines()\n",
        "\n",
        "    # will commit to me?\n",
        "\n",
        "    shifted_lines = []\n",
        "\n",
        "    for line in lines:\n",
        "        match = re.search('(\\d{2}:\\d{2}:\\d{2},\\d{3}) --> (\\d{2}:\\d{2}:\\d{2},\\d{3})', line)\n",
        "        if match:\n",
        "            start_time_str, end_time_str = match.groups()\n",
        "            start_time = datetime.datetime.strptime(start_time_str, '%H:%M:%S,%f')\n",
        "            end_time = datetime.datetime.strptime(end_time_str, '%H:%M:%S,%f')\n",
        "\n",
        "            # Subtraia o deslocamento\n",
        "            start_time -= datetime.timedelta(seconds=delta)\n",
        "            end_time -= datetime.timedelta(seconds=delta)\n",
        "\n",
        "            line = line.replace(start_time_str, start_time.strftime('%H:%M:%S,%f')[:-3])\n",
        "            line = line.replace(end_time_str, end_time.strftime('%H:%M:%S,%f')[:-3])\n",
        "\n",
        "        shifted_lines.append(line)\n",
        "\n",
        "    with open(filename, 'w') as file:\n",
        "        file.writelines(shifted_lines)\n",
        "\n",
        "\n",
        "def shift_srt_backward(filename, delta):\n",
        "    with open(filename, 'r') as file:\n",
        "        lines = file.readlines()\n",
        "\n",
        "    shifted_lines = []\n",
        "\n",
        "    for line in lines:\n",
        "        match = re.search('(\\d{2}:\\d{2}:\\d{2},\\d{3}) --> (\\d{2}:\\d{2}:\\d{2},\\d{3})', line)\n",
        "        if match:\n",
        "            start_time_str, end_time_str = match.groups()\n",
        "            start_time = datetime.datetime.strptime(start_time_str, '%H:%M:%S,%f')\n",
        "            end_time = datetime.datetime.strptime(end_time_str, '%H:%M:%S,%f')\n",
        "\n",
        "            # Adicione o deslocamento\n",
        "            start_time += datetime.timedelta(seconds=delta)\n",
        "            end_time += datetime.timedelta(seconds=delta)\n",
        "\n",
        "            line = line.replace(start_time_str, start_time.strftime('%H:%M:%S,%f')[:-3])\n",
        "            line = line.replace(end_time_str, end_time.strftime('%H:%M:%S,%f')[:-3])\n",
        "\n",
        "        shifted_lines.append(line)\n",
        "\n",
        "    with open(filename, 'w') as file:\n",
        "        file.writelines(shifted_lines)\n",
        "\n",
        "# just add the srt file and set the time u want forward or backward in seconds\n",
        "shift_srt_forward('/content/legenda.srt', 1)\n",
        "print(\"Finished\")\n"
      ]
    },
    {
      "cell_type": "code",
      "source": [],
      "metadata": {
        "id": "eNQTS_uubgWV"
      },
      "execution_count": null,
      "outputs": []
    }
  ]
}