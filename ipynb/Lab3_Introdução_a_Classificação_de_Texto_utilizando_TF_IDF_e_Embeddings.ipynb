{
  "cells": [
    {
      "cell_type": "markdown",
      "metadata": {
        "id": "y8cWHIS-Uc7V"
      },
      "source": [
        "## 1 - Carregando e preprocessando os dados"
      ]
    },
    {
      "cell_type": "code",
      "execution_count": 3,
      "metadata": {
        "colab": {
          "base_uri": "https://localhost:8080/"
        },
        "id": "22e20462",
        "outputId": "7ef8f17a-eff5-4a7c-b9e5-a1967ca07e91"
      },
      "outputs": [
        {
          "name": "stderr",
          "output_type": "stream",
          "text": [
            "Downloading...\n",
            "From: https://drive.google.com/uc?id=1QtLT6pXyOcMVGjMFjDaY8zc2w2cFWzGT\n",
            "To: /home/sleig/dev/notebooks/ipynb/dados_confusão.txt\n",
            "100%|██████████| 7.33k/7.33k [00:00<00:00, 214kB/s]"
          ]
        },
        {
          "name": "stdout",
          "output_type": "stream",
          "text": [
            "\n",
            "Dados carregados:\n",
            "[('confusion', 69), ('certainty', 31), ('neutral_statement', 93)]\n"
          ]
        },
        {
          "name": "stderr",
          "output_type": "stream",
          "text": [
            "\n"
          ]
        }
      ],
      "source": [
        "import gdown\n",
        "import json # Importa a biblioteca json\n",
        "\n",
        "google_drive_link = 'https://drive.google.com/uc?id=1QtLT6pXyOcMVGjMFjDaY8zc2w2cFWzGT'\n",
        "output_filename = 'dados_confusão.txt' # O nome do arquivo de saída, mesmo que seja json, a extensão .txt não impede a leitura como json\n",
        "\n",
        "gdown.download(google_drive_link, output_filename, quiet=False)\n",
        "\n",
        "# Agora você pode ler o arquivo baixado como JSON\n",
        "with open(output_filename, 'r') as f:\n",
        "    dados_json = json.load(f) # Usa json.load() para carregar o conteúdo como um objeto JSON\n",
        "\n",
        "print('\\nDados carregados:')\n",
        "print([(i['intent'], len(i['examples'])) for i in dados_json])"
      ]
    },
    {
      "cell_type": "code",
      "execution_count": 4,
      "metadata": {
        "colab": {
          "base_uri": "https://localhost:8080/",
          "height": 363
        },
        "id": "ad42c9c0",
        "outputId": "1c183a97-e940-40d6-88a6-316d20f6d892"
      },
      "outputs": [
        {
          "data": {
            "text/html": [
              "<div>\n",
              "<style scoped>\n",
              "    .dataframe tbody tr th:only-of-type {\n",
              "        vertical-align: middle;\n",
              "    }\n",
              "\n",
              "    .dataframe tbody tr th {\n",
              "        vertical-align: top;\n",
              "    }\n",
              "\n",
              "    .dataframe thead th {\n",
              "        text-align: right;\n",
              "    }\n",
              "</style>\n",
              "<table border=\"1\" class=\"dataframe\">\n",
              "  <thead>\n",
              "    <tr style=\"text-align: right;\">\n",
              "      <th></th>\n",
              "      <th>text</th>\n",
              "      <th>intent</th>\n",
              "    </tr>\n",
              "  </thead>\n",
              "  <tbody>\n",
              "    <tr>\n",
              "      <th>69</th>\n",
              "      <td>Eu sei</td>\n",
              "      <td>certainty</td>\n",
              "    </tr>\n",
              "    <tr>\n",
              "      <th>65</th>\n",
              "      <td>A gente deve seguir reto ou ir para algum lugar?</td>\n",
              "      <td>confusion</td>\n",
              "    </tr>\n",
              "    <tr>\n",
              "      <th>146</th>\n",
              "      <td>Vou começar a fazer isso</td>\n",
              "      <td>neutral_statement</td>\n",
              "    </tr>\n",
              "    <tr>\n",
              "      <th>119</th>\n",
              "      <td>Eu não vou</td>\n",
              "      <td>neutral_statement</td>\n",
              "    </tr>\n",
              "    <tr>\n",
              "      <th>91</th>\n",
              "      <td>Isso está absolutamente correto</td>\n",
              "      <td>certainty</td>\n",
              "    </tr>\n",
              "    <tr>\n",
              "      <th>96</th>\n",
              "      <td>Tenho certeza absoluta sobre isso</td>\n",
              "      <td>certainty</td>\n",
              "    </tr>\n",
              "    <tr>\n",
              "      <th>101</th>\n",
              "      <td>Não</td>\n",
              "      <td>neutral_statement</td>\n",
              "    </tr>\n",
              "    <tr>\n",
              "      <th>111</th>\n",
              "      <td>Não é a mesma coisa</td>\n",
              "      <td>neutral_statement</td>\n",
              "    </tr>\n",
              "    <tr>\n",
              "      <th>134</th>\n",
              "      <td>Isso é interessante, não é?</td>\n",
              "      <td>neutral_statement</td>\n",
              "    </tr>\n",
              "    <tr>\n",
              "      <th>166</th>\n",
              "      <td>O projeto em grupo está indo bem</td>\n",
              "      <td>neutral_statement</td>\n",
              "    </tr>\n",
              "  </tbody>\n",
              "</table>\n",
              "</div>"
            ],
            "text/plain": [
              "                                                 text             intent\n",
              "69                                             Eu sei          certainty\n",
              "65   A gente deve seguir reto ou ir para algum lugar?          confusion\n",
              "146                          Vou começar a fazer isso  neutral_statement\n",
              "119                                        Eu não vou  neutral_statement\n",
              "91                    Isso está absolutamente correto          certainty\n",
              "96                  Tenho certeza absoluta sobre isso          certainty\n",
              "101                                               Não  neutral_statement\n",
              "111                               Não é a mesma coisa  neutral_statement\n",
              "134                       Isso é interessante, não é?  neutral_statement\n",
              "166                  O projeto em grupo está indo bem  neutral_statement"
            ]
          },
          "metadata": {},
          "output_type": "display_data"
        }
      ],
      "source": [
        "import pandas as pd\n",
        "import numpy as np\n",
        "from sklearn.model_selection import train_test_split\n",
        "\n",
        "# Inicializar listas vazias para armazenar os dados\n",
        "texts = []\n",
        "intents = []\n",
        "\n",
        "# Iterar sobre cada dicionário na lista dados_json\n",
        "for entry in dados_json:\n",
        "    intent = entry['intent'] # Obter o valor da chave 'intent'\n",
        "    examples = entry['examples'] # Obter a lista de exemplos\n",
        "\n",
        "    # Iterar sobre cada exemplo e adicionar à lista de textos e intentos correspondentes\n",
        "    for example in examples:\n",
        "        texts.append(example)\n",
        "        intents.append(intent)\n",
        "\n",
        "# Criar um DataFrame do pandas com as listas coletadas\n",
        "df = pd.DataFrame({'text': texts, 'intent': intents})\n",
        "\n",
        "# Exibir as primeiras linhas do DataFrame para verificar o resultado\n",
        "display(df.sample(10))"
      ]
    },
    {
      "cell_type": "code",
      "execution_count": 5,
      "metadata": {
        "colab": {
          "base_uri": "https://localhost:8080/",
          "height": 471
        },
        "id": "0ok_5UdVVywd",
        "outputId": "bc4db55f-d26f-47e8-e79e-b31c37b787d3"
      },
      "outputs": [
        {
          "name": "stdout",
          "output_type": "stream",
          "text": [
            "\n",
            "Distribuição das classes no conjunto de treino:\n"
          ]
        },
        {
          "data": {
            "text/plain": [
              "intent\n",
              "neutral_statement    73\n",
              "confusion            55\n",
              "certainty            26\n",
              "Name: count, dtype: int64"
            ]
          },
          "metadata": {},
          "output_type": "display_data"
        },
        {
          "name": "stdout",
          "output_type": "stream",
          "text": [
            "\n",
            "Distribuição das classes no conjunto de teste:\n"
          ]
        },
        {
          "data": {
            "text/plain": [
              "intent\n",
              "neutral_statement    20\n",
              "confusion            14\n",
              "certainty             5\n",
              "Name: count, dtype: int64"
            ]
          },
          "metadata": {},
          "output_type": "display_data"
        }
      ],
      "source": [
        "# Separar os dados em treino e teste usando amostragem estratificada\n",
        "X_train, X_test, y_train, y_test = train_test_split(df['text'], df['intent'],\n",
        "                                                    test_size=0.20,\n",
        "                                                    random_state=42)\n",
        "\n",
        "print(\"\\nDistribuição das classes no conjunto de treino:\")\n",
        "display(y_train.value_counts())\n",
        "\n",
        "print(\"\\nDistribuição das classes no conjunto de teste:\")\n",
        "display(y_test.value_counts())"
      ]
    },
    {
      "cell_type": "code",
      "execution_count": 6,
      "metadata": {
        "colab": {
          "base_uri": "https://localhost:8080/"
        },
        "id": "Z1bMWt6af14z",
        "outputId": "53c79d24-cf83-4627-86a6-51864b4409a8"
      },
      "outputs": [
        {
          "name": "stdout",
          "output_type": "stream",
          "text": [
            "Formato dos labels originais (treino): (154,)\n",
            "Formato dos labels após One-Hot Encoding (treino): (154, 3)\n",
            "\n",
            "Primeiros 5 labels de treino originais:\n",
            " 82             certainty\n",
            "109    neutral_statement\n",
            "163    neutral_statement\n",
            "35             confusion\n",
            "136    neutral_statement\n",
            "Name: intent, dtype: object\n",
            "\n",
            "Primeiros 5 labels de treino após One-Hot Encoding:\n",
            " [[1. 0. 0.]\n",
            " [0. 0. 1.]\n",
            " [0. 0. 1.]\n",
            " [0. 1. 0.]\n",
            " [0. 0. 1.]]\n",
            "\n",
            "Formato dos labels originais (teste): (39,)\n",
            "Formato dos labels após One-Hot Encoding (teste): (39, 3)\n",
            "\n",
            "Primeiros 5 labels de teste originais:\n",
            " 45             confusion\n",
            "137    neutral_statement\n",
            "76             certainty\n",
            "144    neutral_statement\n",
            "113    neutral_statement\n",
            "Name: intent, dtype: object\n",
            "\n",
            "Primeiros 5 labels de teste após One-Hot Encoding:\n",
            " [[0. 1. 0.]\n",
            " [0. 0. 1.]\n",
            " [1. 0. 0.]\n",
            " [0. 0. 1.]\n",
            " [0. 0. 1.]]\n"
          ]
        }
      ],
      "source": [
        "from sklearn.preprocessing import OneHotEncoder\n",
        "import numpy as np\n",
        "\n",
        "# One-Hot Encoding nos labels\n",
        "# Como a variável target já é uma série, precisamos remodela-la para o OneHotEncoder\n",
        "y_train_reshaped = y_train.values.reshape(-1, 1)\n",
        "y_test_reshaped = y_test.values.reshape(-1, 1)\n",
        "\n",
        "# Inicializar o OneHotEncoder\n",
        "# handle_unknown='ignore' é útil caso apareçam labels no teste que não estavam no treino\n",
        "onehot_encoder = OneHotEncoder(handle_unknown='ignore', sparse_output=False)\n",
        "\n",
        "# Ajustar e transformar os labels de treino\n",
        "onehot_encoder.fit(y_train_reshaped)\n",
        "y_train_encoded = onehot_encoder.transform(y_train_reshaped)\n",
        "\n",
        "# Transformar os labels de teste\n",
        "y_test_encoded = onehot_encoder.transform(y_test_reshaped)\n",
        "\n",
        "print(\"Formato dos labels originais (treino):\", y_train.shape)\n",
        "print(\"Formato dos labels após One-Hot Encoding (treino):\", y_train_encoded.shape)\n",
        "print(\"\\nPrimeiros 5 labels de treino originais:\\n\", y_train.head())\n",
        "print(\"\\nPrimeiros 5 labels de treino após One-Hot Encoding:\\n\", y_train_encoded[:5])\n",
        "\n",
        "print(\"\\nFormato dos labels originais (teste):\", y_test.shape)\n",
        "print(\"Formato dos labels após One-Hot Encoding (teste):\", y_test_encoded.shape)\n",
        "print(\"\\nPrimeiros 5 labels de teste originais:\\n\", y_test.head())\n",
        "print(\"\\nPrimeiros 5 labels de teste após One-Hot Encoding:\\n\", y_test_encoded[:5])\n",
        "\n",
        "# Agora y_train_encoded e y_test_encoded contêm os rótulos em formato one-hot encoded.\n",
        "# Você usaria essas variáveis se o seu modelo de classificação as exigisse."
      ]
    },
    {
      "cell_type": "markdown",
      "metadata": {
        "id": "EygyNuYfgh4o"
      },
      "source": [
        "## 2 - Classificação"
      ]
    },
    {
      "cell_type": "markdown",
      "metadata": {
        "id": "V4qksPgxc94I"
      },
      "source": [
        "### Método A - TF-IDF e DecisionTreeClassifier"
      ]
    },
    {
      "cell_type": "markdown",
      "metadata": {
        "id": "wajqBRh-dRzg"
      },
      "source": [
        "#### Ajustando o TF-IDF"
      ]
    },
    {
      "cell_type": "code",
      "execution_count": 7,
      "metadata": {
        "id": "ab98e4e6"
      },
      "outputs": [],
      "source": [
        "from sklearn.feature_extraction.text import TfidfVectorizer, CountVectorizer\n",
        "\n",
        "# Inicializar o TF-IDF Vectorizer\n",
        "tfidf_vectorizer = TfidfVectorizer()\n",
        "\n",
        "tfidf_vectorizer.fit(X_train)\n",
        "\n",
        "X_train_tfidf = tfidf_vectorizer.transform(X_train)"
      ]
    },
    {
      "cell_type": "markdown",
      "metadata": {
        "id": "bJZy2XUsdVAC"
      },
      "source": [
        "#### Interpretando o TF-IDF por dentro"
      ]
    },
    {
      "cell_type": "code",
      "execution_count": 8,
      "metadata": {
        "colab": {
          "base_uri": "https://localhost:8080/",
          "height": 363
        },
        "id": "Np2AhYhJdXFl",
        "outputId": "d16fa71c-ddf8-44ec-bd48-103ba4348dfe"
      },
      "outputs": [
        {
          "data": {
            "text/html": [
              "<div>\n",
              "<style scoped>\n",
              "    .dataframe tbody tr th:only-of-type {\n",
              "        vertical-align: middle;\n",
              "    }\n",
              "\n",
              "    .dataframe tbody tr th {\n",
              "        vertical-align: top;\n",
              "    }\n",
              "\n",
              "    .dataframe thead th {\n",
              "        text-align: right;\n",
              "    }\n",
              "</style>\n",
              "<table border=\"1\" class=\"dataframe\">\n",
              "  <thead>\n",
              "    <tr style=\"text-align: right;\">\n",
              "      <th></th>\n",
              "      <th>word</th>\n",
              "      <th>average_tfidf</th>\n",
              "      <th>idf</th>\n",
              "    </tr>\n",
              "  </thead>\n",
              "  <tbody>\n",
              "    <tr>\n",
              "      <th>152</th>\n",
              "      <td>isso</td>\n",
              "      <td>0.077684</td>\n",
              "      <td>2.214784</td>\n",
              "    </tr>\n",
              "    <tr>\n",
              "      <th>189</th>\n",
              "      <td>não</td>\n",
              "      <td>0.060776</td>\n",
              "      <td>2.711221</td>\n",
              "    </tr>\n",
              "    <tr>\n",
              "      <th>238</th>\n",
              "      <td>que</td>\n",
              "      <td>0.053132</td>\n",
              "      <td>2.785329</td>\n",
              "    </tr>\n",
              "    <tr>\n",
              "      <th>121</th>\n",
              "      <td>está</td>\n",
              "      <td>0.042093</td>\n",
              "      <td>3.098986</td>\n",
              "    </tr>\n",
              "    <tr>\n",
              "      <th>120</th>\n",
              "      <td>estou</td>\n",
              "      <td>0.028285</td>\n",
              "      <td>3.478476</td>\n",
              "    </tr>\n",
              "    <tr>\n",
              "      <th>241</th>\n",
              "      <td>quê</td>\n",
              "      <td>0.026879</td>\n",
              "      <td>3.846201</td>\n",
              "    </tr>\n",
              "    <tr>\n",
              "      <th>30</th>\n",
              "      <td>aqui</td>\n",
              "      <td>0.026743</td>\n",
              "      <td>3.846201</td>\n",
              "    </tr>\n",
              "    <tr>\n",
              "      <th>122</th>\n",
              "      <td>eu</td>\n",
              "      <td>0.025769</td>\n",
              "      <td>3.740840</td>\n",
              "    </tr>\n",
              "    <tr>\n",
              "      <th>292</th>\n",
              "      <td>você</td>\n",
              "      <td>0.025242</td>\n",
              "      <td>3.740840</td>\n",
              "    </tr>\n",
              "    <tr>\n",
              "      <th>55</th>\n",
              "      <td>como</td>\n",
              "      <td>0.024026</td>\n",
              "      <td>3.740840</td>\n",
              "    </tr>\n",
              "  </tbody>\n",
              "</table>\n",
              "</div>"
            ],
            "text/plain": [
              "      word  average_tfidf       idf\n",
              "152   isso       0.077684  2.214784\n",
              "189    não       0.060776  2.711221\n",
              "238    que       0.053132  2.785329\n",
              "121   está       0.042093  3.098986\n",
              "120  estou       0.028285  3.478476\n",
              "241    quê       0.026879  3.846201\n",
              "30    aqui       0.026743  3.846201\n",
              "122     eu       0.025769  3.740840\n",
              "292   você       0.025242  3.740840\n",
              "55    como       0.024026  3.740840"
            ]
          },
          "execution_count": 8,
          "metadata": {},
          "output_type": "execute_result"
        }
      ],
      "source": [
        "def palavras_importantes(X, tfidf_vectorizer):\n",
        "  # Obter os nomes das features (palavras)\n",
        "  feature_names = tfidf_vectorizer.get_feature_names_out()\n",
        "\n",
        "  # Obter métricas de relevância\n",
        "  average_tfidf_scores = X_train_tfidf.mean(axis=0).A1\n",
        "\n",
        "  # Criar um DataFrame para visualizar as palavras e suas pontuações médias\n",
        "  tfidf_scores_df = pd.DataFrame({'word': feature_names,\n",
        "                                  'average_tfidf': average_tfidf_scores,\n",
        "                                  'idf': tfidf_vectorizer.idf_})\n",
        "  return tfidf_scores_df\n",
        "\n",
        "palavras_importantes(X_train_tfidf, tfidf_vectorizer).sort_values(by='average_tfidf', ascending=False).head(10)"
      ]
    },
    {
      "cell_type": "markdown",
      "metadata": {
        "id": "pdgxZEVxdYXF"
      },
      "source": [
        "#### Treinando um classificador usando TF-IDF e DecisionTreeClassifier"
      ]
    },
    {
      "cell_type": "code",
      "execution_count": 9,
      "metadata": {
        "colab": {
          "base_uri": "https://localhost:8080/",
          "height": 80
        },
        "id": "jL9v1trLVlVG",
        "outputId": "d009c57d-147f-4b68-8bb1-ce470ec7aca8"
      },
      "outputs": [
        {
          "data": {
            "text/html": [
              "<style>#sk-container-id-1 {\n",
              "  /* Definition of color scheme common for light and dark mode */\n",
              "  --sklearn-color-text: #000;\n",
              "  --sklearn-color-text-muted: #666;\n",
              "  --sklearn-color-line: gray;\n",
              "  /* Definition of color scheme for unfitted estimators */\n",
              "  --sklearn-color-unfitted-level-0: #fff5e6;\n",
              "  --sklearn-color-unfitted-level-1: #f6e4d2;\n",
              "  --sklearn-color-unfitted-level-2: #ffe0b3;\n",
              "  --sklearn-color-unfitted-level-3: chocolate;\n",
              "  /* Definition of color scheme for fitted estimators */\n",
              "  --sklearn-color-fitted-level-0: #f0f8ff;\n",
              "  --sklearn-color-fitted-level-1: #d4ebff;\n",
              "  --sklearn-color-fitted-level-2: #b3dbfd;\n",
              "  --sklearn-color-fitted-level-3: cornflowerblue;\n",
              "\n",
              "  /* Specific color for light theme */\n",
              "  --sklearn-color-text-on-default-background: var(--sg-text-color, var(--theme-code-foreground, var(--jp-content-font-color1, black)));\n",
              "  --sklearn-color-background: var(--sg-background-color, var(--theme-background, var(--jp-layout-color0, white)));\n",
              "  --sklearn-color-border-box: var(--sg-text-color, var(--theme-code-foreground, var(--jp-content-font-color1, black)));\n",
              "  --sklearn-color-icon: #696969;\n",
              "\n",
              "  @media (prefers-color-scheme: dark) {\n",
              "    /* Redefinition of color scheme for dark theme */\n",
              "    --sklearn-color-text-on-default-background: var(--sg-text-color, var(--theme-code-foreground, var(--jp-content-font-color1, white)));\n",
              "    --sklearn-color-background: var(--sg-background-color, var(--theme-background, var(--jp-layout-color0, #111)));\n",
              "    --sklearn-color-border-box: var(--sg-text-color, var(--theme-code-foreground, var(--jp-content-font-color1, white)));\n",
              "    --sklearn-color-icon: #878787;\n",
              "  }\n",
              "}\n",
              "\n",
              "#sk-container-id-1 {\n",
              "  color: var(--sklearn-color-text);\n",
              "}\n",
              "\n",
              "#sk-container-id-1 pre {\n",
              "  padding: 0;\n",
              "}\n",
              "\n",
              "#sk-container-id-1 input.sk-hidden--visually {\n",
              "  border: 0;\n",
              "  clip: rect(1px 1px 1px 1px);\n",
              "  clip: rect(1px, 1px, 1px, 1px);\n",
              "  height: 1px;\n",
              "  margin: -1px;\n",
              "  overflow: hidden;\n",
              "  padding: 0;\n",
              "  position: absolute;\n",
              "  width: 1px;\n",
              "}\n",
              "\n",
              "#sk-container-id-1 div.sk-dashed-wrapped {\n",
              "  border: 1px dashed var(--sklearn-color-line);\n",
              "  margin: 0 0.4em 0.5em 0.4em;\n",
              "  box-sizing: border-box;\n",
              "  padding-bottom: 0.4em;\n",
              "  background-color: var(--sklearn-color-background);\n",
              "}\n",
              "\n",
              "#sk-container-id-1 div.sk-container {\n",
              "  /* jupyter's `normalize.less` sets `[hidden] { display: none; }`\n",
              "     but bootstrap.min.css set `[hidden] { display: none !important; }`\n",
              "     so we also need the `!important` here to be able to override the\n",
              "     default hidden behavior on the sphinx rendered scikit-learn.org.\n",
              "     See: https://github.com/scikit-learn/scikit-learn/issues/21755 */\n",
              "  display: inline-block !important;\n",
              "  position: relative;\n",
              "}\n",
              "\n",
              "#sk-container-id-1 div.sk-text-repr-fallback {\n",
              "  display: none;\n",
              "}\n",
              "\n",
              "div.sk-parallel-item,\n",
              "div.sk-serial,\n",
              "div.sk-item {\n",
              "  /* draw centered vertical line to link estimators */\n",
              "  background-image: linear-gradient(var(--sklearn-color-text-on-default-background), var(--sklearn-color-text-on-default-background));\n",
              "  background-size: 2px 100%;\n",
              "  background-repeat: no-repeat;\n",
              "  background-position: center center;\n",
              "}\n",
              "\n",
              "/* Parallel-specific style estimator block */\n",
              "\n",
              "#sk-container-id-1 div.sk-parallel-item::after {\n",
              "  content: \"\";\n",
              "  width: 100%;\n",
              "  border-bottom: 2px solid var(--sklearn-color-text-on-default-background);\n",
              "  flex-grow: 1;\n",
              "}\n",
              "\n",
              "#sk-container-id-1 div.sk-parallel {\n",
              "  display: flex;\n",
              "  align-items: stretch;\n",
              "  justify-content: center;\n",
              "  background-color: var(--sklearn-color-background);\n",
              "  position: relative;\n",
              "}\n",
              "\n",
              "#sk-container-id-1 div.sk-parallel-item {\n",
              "  display: flex;\n",
              "  flex-direction: column;\n",
              "}\n",
              "\n",
              "#sk-container-id-1 div.sk-parallel-item:first-child::after {\n",
              "  align-self: flex-end;\n",
              "  width: 50%;\n",
              "}\n",
              "\n",
              "#sk-container-id-1 div.sk-parallel-item:last-child::after {\n",
              "  align-self: flex-start;\n",
              "  width: 50%;\n",
              "}\n",
              "\n",
              "#sk-container-id-1 div.sk-parallel-item:only-child::after {\n",
              "  width: 0;\n",
              "}\n",
              "\n",
              "/* Serial-specific style estimator block */\n",
              "\n",
              "#sk-container-id-1 div.sk-serial {\n",
              "  display: flex;\n",
              "  flex-direction: column;\n",
              "  align-items: center;\n",
              "  background-color: var(--sklearn-color-background);\n",
              "  padding-right: 1em;\n",
              "  padding-left: 1em;\n",
              "}\n",
              "\n",
              "\n",
              "/* Toggleable style: style used for estimator/Pipeline/ColumnTransformer box that is\n",
              "clickable and can be expanded/collapsed.\n",
              "- Pipeline and ColumnTransformer use this feature and define the default style\n",
              "- Estimators will overwrite some part of the style using the `sk-estimator` class\n",
              "*/\n",
              "\n",
              "/* Pipeline and ColumnTransformer style (default) */\n",
              "\n",
              "#sk-container-id-1 div.sk-toggleable {\n",
              "  /* Default theme specific background. It is overwritten whether we have a\n",
              "  specific estimator or a Pipeline/ColumnTransformer */\n",
              "  background-color: var(--sklearn-color-background);\n",
              "}\n",
              "\n",
              "/* Toggleable label */\n",
              "#sk-container-id-1 label.sk-toggleable__label {\n",
              "  cursor: pointer;\n",
              "  display: flex;\n",
              "  width: 100%;\n",
              "  margin-bottom: 0;\n",
              "  padding: 0.5em;\n",
              "  box-sizing: border-box;\n",
              "  text-align: center;\n",
              "  align-items: start;\n",
              "  justify-content: space-between;\n",
              "  gap: 0.5em;\n",
              "}\n",
              "\n",
              "#sk-container-id-1 label.sk-toggleable__label .caption {\n",
              "  font-size: 0.6rem;\n",
              "  font-weight: lighter;\n",
              "  color: var(--sklearn-color-text-muted);\n",
              "}\n",
              "\n",
              "#sk-container-id-1 label.sk-toggleable__label-arrow:before {\n",
              "  /* Arrow on the left of the label */\n",
              "  content: \"▸\";\n",
              "  float: left;\n",
              "  margin-right: 0.25em;\n",
              "  color: var(--sklearn-color-icon);\n",
              "}\n",
              "\n",
              "#sk-container-id-1 label.sk-toggleable__label-arrow:hover:before {\n",
              "  color: var(--sklearn-color-text);\n",
              "}\n",
              "\n",
              "/* Toggleable content - dropdown */\n",
              "\n",
              "#sk-container-id-1 div.sk-toggleable__content {\n",
              "  display: none;\n",
              "  text-align: left;\n",
              "  /* unfitted */\n",
              "  background-color: var(--sklearn-color-unfitted-level-0);\n",
              "}\n",
              "\n",
              "#sk-container-id-1 div.sk-toggleable__content.fitted {\n",
              "  /* fitted */\n",
              "  background-color: var(--sklearn-color-fitted-level-0);\n",
              "}\n",
              "\n",
              "#sk-container-id-1 div.sk-toggleable__content pre {\n",
              "  margin: 0.2em;\n",
              "  border-radius: 0.25em;\n",
              "  color: var(--sklearn-color-text);\n",
              "  /* unfitted */\n",
              "  background-color: var(--sklearn-color-unfitted-level-0);\n",
              "}\n",
              "\n",
              "#sk-container-id-1 div.sk-toggleable__content.fitted pre {\n",
              "  /* unfitted */\n",
              "  background-color: var(--sklearn-color-fitted-level-0);\n",
              "}\n",
              "\n",
              "#sk-container-id-1 input.sk-toggleable__control:checked~div.sk-toggleable__content {\n",
              "  /* Expand drop-down */\n",
              "  display: block;\n",
              "  width: 100%;\n",
              "  overflow: visible;\n",
              "}\n",
              "\n",
              "#sk-container-id-1 input.sk-toggleable__control:checked~label.sk-toggleable__label-arrow:before {\n",
              "  content: \"▾\";\n",
              "}\n",
              "\n",
              "/* Pipeline/ColumnTransformer-specific style */\n",
              "\n",
              "#sk-container-id-1 div.sk-label input.sk-toggleable__control:checked~label.sk-toggleable__label {\n",
              "  color: var(--sklearn-color-text);\n",
              "  background-color: var(--sklearn-color-unfitted-level-2);\n",
              "}\n",
              "\n",
              "#sk-container-id-1 div.sk-label.fitted input.sk-toggleable__control:checked~label.sk-toggleable__label {\n",
              "  background-color: var(--sklearn-color-fitted-level-2);\n",
              "}\n",
              "\n",
              "/* Estimator-specific style */\n",
              "\n",
              "/* Colorize estimator box */\n",
              "#sk-container-id-1 div.sk-estimator input.sk-toggleable__control:checked~label.sk-toggleable__label {\n",
              "  /* unfitted */\n",
              "  background-color: var(--sklearn-color-unfitted-level-2);\n",
              "}\n",
              "\n",
              "#sk-container-id-1 div.sk-estimator.fitted input.sk-toggleable__control:checked~label.sk-toggleable__label {\n",
              "  /* fitted */\n",
              "  background-color: var(--sklearn-color-fitted-level-2);\n",
              "}\n",
              "\n",
              "#sk-container-id-1 div.sk-label label.sk-toggleable__label,\n",
              "#sk-container-id-1 div.sk-label label {\n",
              "  /* The background is the default theme color */\n",
              "  color: var(--sklearn-color-text-on-default-background);\n",
              "}\n",
              "\n",
              "/* On hover, darken the color of the background */\n",
              "#sk-container-id-1 div.sk-label:hover label.sk-toggleable__label {\n",
              "  color: var(--sklearn-color-text);\n",
              "  background-color: var(--sklearn-color-unfitted-level-2);\n",
              "}\n",
              "\n",
              "/* Label box, darken color on hover, fitted */\n",
              "#sk-container-id-1 div.sk-label.fitted:hover label.sk-toggleable__label.fitted {\n",
              "  color: var(--sklearn-color-text);\n",
              "  background-color: var(--sklearn-color-fitted-level-2);\n",
              "}\n",
              "\n",
              "/* Estimator label */\n",
              "\n",
              "#sk-container-id-1 div.sk-label label {\n",
              "  font-family: monospace;\n",
              "  font-weight: bold;\n",
              "  display: inline-block;\n",
              "  line-height: 1.2em;\n",
              "}\n",
              "\n",
              "#sk-container-id-1 div.sk-label-container {\n",
              "  text-align: center;\n",
              "}\n",
              "\n",
              "/* Estimator-specific */\n",
              "#sk-container-id-1 div.sk-estimator {\n",
              "  font-family: monospace;\n",
              "  border: 1px dotted var(--sklearn-color-border-box);\n",
              "  border-radius: 0.25em;\n",
              "  box-sizing: border-box;\n",
              "  margin-bottom: 0.5em;\n",
              "  /* unfitted */\n",
              "  background-color: var(--sklearn-color-unfitted-level-0);\n",
              "}\n",
              "\n",
              "#sk-container-id-1 div.sk-estimator.fitted {\n",
              "  /* fitted */\n",
              "  background-color: var(--sklearn-color-fitted-level-0);\n",
              "}\n",
              "\n",
              "/* on hover */\n",
              "#sk-container-id-1 div.sk-estimator:hover {\n",
              "  /* unfitted */\n",
              "  background-color: var(--sklearn-color-unfitted-level-2);\n",
              "}\n",
              "\n",
              "#sk-container-id-1 div.sk-estimator.fitted:hover {\n",
              "  /* fitted */\n",
              "  background-color: var(--sklearn-color-fitted-level-2);\n",
              "}\n",
              "\n",
              "/* Specification for estimator info (e.g. \"i\" and \"?\") */\n",
              "\n",
              "/* Common style for \"i\" and \"?\" */\n",
              "\n",
              ".sk-estimator-doc-link,\n",
              "a:link.sk-estimator-doc-link,\n",
              "a:visited.sk-estimator-doc-link {\n",
              "  float: right;\n",
              "  font-size: smaller;\n",
              "  line-height: 1em;\n",
              "  font-family: monospace;\n",
              "  background-color: var(--sklearn-color-background);\n",
              "  border-radius: 1em;\n",
              "  height: 1em;\n",
              "  width: 1em;\n",
              "  text-decoration: none !important;\n",
              "  margin-left: 0.5em;\n",
              "  text-align: center;\n",
              "  /* unfitted */\n",
              "  border: var(--sklearn-color-unfitted-level-1) 1pt solid;\n",
              "  color: var(--sklearn-color-unfitted-level-1);\n",
              "}\n",
              "\n",
              ".sk-estimator-doc-link.fitted,\n",
              "a:link.sk-estimator-doc-link.fitted,\n",
              "a:visited.sk-estimator-doc-link.fitted {\n",
              "  /* fitted */\n",
              "  border: var(--sklearn-color-fitted-level-1) 1pt solid;\n",
              "  color: var(--sklearn-color-fitted-level-1);\n",
              "}\n",
              "\n",
              "/* On hover */\n",
              "div.sk-estimator:hover .sk-estimator-doc-link:hover,\n",
              ".sk-estimator-doc-link:hover,\n",
              "div.sk-label-container:hover .sk-estimator-doc-link:hover,\n",
              ".sk-estimator-doc-link:hover {\n",
              "  /* unfitted */\n",
              "  background-color: var(--sklearn-color-unfitted-level-3);\n",
              "  color: var(--sklearn-color-background);\n",
              "  text-decoration: none;\n",
              "}\n",
              "\n",
              "div.sk-estimator.fitted:hover .sk-estimator-doc-link.fitted:hover,\n",
              ".sk-estimator-doc-link.fitted:hover,\n",
              "div.sk-label-container:hover .sk-estimator-doc-link.fitted:hover,\n",
              ".sk-estimator-doc-link.fitted:hover {\n",
              "  /* fitted */\n",
              "  background-color: var(--sklearn-color-fitted-level-3);\n",
              "  color: var(--sklearn-color-background);\n",
              "  text-decoration: none;\n",
              "}\n",
              "\n",
              "/* Span, style for the box shown on hovering the info icon */\n",
              ".sk-estimator-doc-link span {\n",
              "  display: none;\n",
              "  z-index: 9999;\n",
              "  position: relative;\n",
              "  font-weight: normal;\n",
              "  right: .2ex;\n",
              "  padding: .5ex;\n",
              "  margin: .5ex;\n",
              "  width: min-content;\n",
              "  min-width: 20ex;\n",
              "  max-width: 50ex;\n",
              "  color: var(--sklearn-color-text);\n",
              "  box-shadow: 2pt 2pt 4pt #999;\n",
              "  /* unfitted */\n",
              "  background: var(--sklearn-color-unfitted-level-0);\n",
              "  border: .5pt solid var(--sklearn-color-unfitted-level-3);\n",
              "}\n",
              "\n",
              ".sk-estimator-doc-link.fitted span {\n",
              "  /* fitted */\n",
              "  background: var(--sklearn-color-fitted-level-0);\n",
              "  border: var(--sklearn-color-fitted-level-3);\n",
              "}\n",
              "\n",
              ".sk-estimator-doc-link:hover span {\n",
              "  display: block;\n",
              "}\n",
              "\n",
              "/* \"?\"-specific style due to the `<a>` HTML tag */\n",
              "\n",
              "#sk-container-id-1 a.estimator_doc_link {\n",
              "  float: right;\n",
              "  font-size: 1rem;\n",
              "  line-height: 1em;\n",
              "  font-family: monospace;\n",
              "  background-color: var(--sklearn-color-background);\n",
              "  border-radius: 1rem;\n",
              "  height: 1rem;\n",
              "  width: 1rem;\n",
              "  text-decoration: none;\n",
              "  /* unfitted */\n",
              "  color: var(--sklearn-color-unfitted-level-1);\n",
              "  border: var(--sklearn-color-unfitted-level-1) 1pt solid;\n",
              "}\n",
              "\n",
              "#sk-container-id-1 a.estimator_doc_link.fitted {\n",
              "  /* fitted */\n",
              "  border: var(--sklearn-color-fitted-level-1) 1pt solid;\n",
              "  color: var(--sklearn-color-fitted-level-1);\n",
              "}\n",
              "\n",
              "/* On hover */\n",
              "#sk-container-id-1 a.estimator_doc_link:hover {\n",
              "  /* unfitted */\n",
              "  background-color: var(--sklearn-color-unfitted-level-3);\n",
              "  color: var(--sklearn-color-background);\n",
              "  text-decoration: none;\n",
              "}\n",
              "\n",
              "#sk-container-id-1 a.estimator_doc_link.fitted:hover {\n",
              "  /* fitted */\n",
              "  background-color: var(--sklearn-color-fitted-level-3);\n",
              "}\n",
              "\n",
              ".estimator-table summary {\n",
              "    padding: .5rem;\n",
              "    font-family: monospace;\n",
              "    cursor: pointer;\n",
              "}\n",
              "\n",
              ".estimator-table details[open] {\n",
              "    padding-left: 0.1rem;\n",
              "    padding-right: 0.1rem;\n",
              "    padding-bottom: 0.3rem;\n",
              "}\n",
              "\n",
              ".estimator-table .parameters-table {\n",
              "    margin-left: auto !important;\n",
              "    margin-right: auto !important;\n",
              "}\n",
              "\n",
              ".estimator-table .parameters-table tr:nth-child(odd) {\n",
              "    background-color: #fff;\n",
              "}\n",
              "\n",
              ".estimator-table .parameters-table tr:nth-child(even) {\n",
              "    background-color: #f6f6f6;\n",
              "}\n",
              "\n",
              ".estimator-table .parameters-table tr:hover {\n",
              "    background-color: #e0e0e0;\n",
              "}\n",
              "\n",
              ".estimator-table table td {\n",
              "    border: 1px solid rgba(106, 105, 104, 0.232);\n",
              "}\n",
              "\n",
              ".user-set td {\n",
              "    color:rgb(255, 94, 0);\n",
              "    text-align: left;\n",
              "}\n",
              "\n",
              ".user-set td.value pre {\n",
              "    color:rgb(255, 94, 0) !important;\n",
              "    background-color: transparent !important;\n",
              "}\n",
              "\n",
              ".default td {\n",
              "    color: black;\n",
              "    text-align: left;\n",
              "}\n",
              "\n",
              ".user-set td i,\n",
              ".default td i {\n",
              "    color: black;\n",
              "}\n",
              "\n",
              ".copy-paste-icon {\n",
              "    background-image: url(data:image/svg+xml;base64,PHN2ZyB4bWxucz0iaHR0cDovL3d3dy53My5vcmcvMjAwMC9zdmciIHZpZXdCb3g9IjAgMCA0NDggNTEyIj48IS0tIUZvbnQgQXdlc29tZSBGcmVlIDYuNy4yIGJ5IEBmb250YXdlc29tZSAtIGh0dHBzOi8vZm9udGF3ZXNvbWUuY29tIExpY2Vuc2UgLSBodHRwczovL2ZvbnRhd2Vzb21lLmNvbS9saWNlbnNlL2ZyZWUgQ29weXJpZ2h0IDIwMjUgRm9udGljb25zLCBJbmMuLS0+PHBhdGggZD0iTTIwOCAwTDMzMi4xIDBjMTIuNyAwIDI0LjkgNS4xIDMzLjkgMTQuMWw2Ny45IDY3LjljOSA5IDE0LjEgMjEuMiAxNC4xIDMzLjlMNDQ4IDMzNmMwIDI2LjUtMjEuNSA0OC00OCA0OGwtMTkyIDBjLTI2LjUgMC00OC0yMS41LTQ4LTQ4bDAtMjg4YzAtMjYuNSAyMS41LTQ4IDQ4LTQ4ek00OCAxMjhsODAgMCAwIDY0LTY0IDAgMCAyNTYgMTkyIDAgMC0zMiA2NCAwIDAgNDhjMCAyNi41LTIxLjUgNDgtNDggNDhMNDggNTEyYy0yNi41IDAtNDgtMjEuNS00OC00OEwwIDE3NmMwLTI2LjUgMjEuNS00OCA0OC00OHoiLz48L3N2Zz4=);\n",
              "    background-repeat: no-repeat;\n",
              "    background-size: 14px 14px;\n",
              "    background-position: 0;\n",
              "    display: inline-block;\n",
              "    width: 14px;\n",
              "    height: 14px;\n",
              "    cursor: pointer;\n",
              "}\n",
              "</style><body><div id=\"sk-container-id-1\" class=\"sk-top-container\"><div class=\"sk-text-repr-fallback\"><pre>DecisionTreeClassifier(random_state=42)</pre><b>In a Jupyter environment, please rerun this cell to show the HTML representation or trust the notebook. <br />On GitHub, the HTML representation is unable to render, please try loading this page with nbviewer.org.</b></div><div class=\"sk-container\" hidden><div class=\"sk-item\"><div class=\"sk-estimator fitted sk-toggleable\"><input class=\"sk-toggleable__control sk-hidden--visually\" id=\"sk-estimator-id-1\" type=\"checkbox\" checked><label for=\"sk-estimator-id-1\" class=\"sk-toggleable__label fitted sk-toggleable__label-arrow\"><div><div>DecisionTreeClassifier</div></div><div><a class=\"sk-estimator-doc-link fitted\" rel=\"noreferrer\" target=\"_blank\" href=\"https://scikit-learn.org/1.7/modules/generated/sklearn.tree.DecisionTreeClassifier.html\">?<span>Documentation for DecisionTreeClassifier</span></a><span class=\"sk-estimator-doc-link fitted\">i<span>Fitted</span></span></div></label><div class=\"sk-toggleable__content fitted\" data-param-prefix=\"\">\n",
              "        <div class=\"estimator-table\">\n",
              "            <details>\n",
              "                <summary>Parameters</summary>\n",
              "                <table class=\"parameters-table\">\n",
              "                  <tbody>\n",
              "                    \n",
              "        <tr class=\"default\">\n",
              "            <td><i class=\"copy-paste-icon\"\n",
              "                 onclick=\"copyToClipboard('criterion',\n",
              "                          this.parentElement.nextElementSibling)\"\n",
              "            ></i></td>\n",
              "            <td class=\"param\">criterion&nbsp;</td>\n",
              "            <td class=\"value\">&#x27;gini&#x27;</td>\n",
              "        </tr>\n",
              "    \n",
              "\n",
              "        <tr class=\"default\">\n",
              "            <td><i class=\"copy-paste-icon\"\n",
              "                 onclick=\"copyToClipboard('splitter',\n",
              "                          this.parentElement.nextElementSibling)\"\n",
              "            ></i></td>\n",
              "            <td class=\"param\">splitter&nbsp;</td>\n",
              "            <td class=\"value\">&#x27;best&#x27;</td>\n",
              "        </tr>\n",
              "    \n",
              "\n",
              "        <tr class=\"default\">\n",
              "            <td><i class=\"copy-paste-icon\"\n",
              "                 onclick=\"copyToClipboard('max_depth',\n",
              "                          this.parentElement.nextElementSibling)\"\n",
              "            ></i></td>\n",
              "            <td class=\"param\">max_depth&nbsp;</td>\n",
              "            <td class=\"value\">None</td>\n",
              "        </tr>\n",
              "    \n",
              "\n",
              "        <tr class=\"default\">\n",
              "            <td><i class=\"copy-paste-icon\"\n",
              "                 onclick=\"copyToClipboard('min_samples_split',\n",
              "                          this.parentElement.nextElementSibling)\"\n",
              "            ></i></td>\n",
              "            <td class=\"param\">min_samples_split&nbsp;</td>\n",
              "            <td class=\"value\">2</td>\n",
              "        </tr>\n",
              "    \n",
              "\n",
              "        <tr class=\"default\">\n",
              "            <td><i class=\"copy-paste-icon\"\n",
              "                 onclick=\"copyToClipboard('min_samples_leaf',\n",
              "                          this.parentElement.nextElementSibling)\"\n",
              "            ></i></td>\n",
              "            <td class=\"param\">min_samples_leaf&nbsp;</td>\n",
              "            <td class=\"value\">1</td>\n",
              "        </tr>\n",
              "    \n",
              "\n",
              "        <tr class=\"default\">\n",
              "            <td><i class=\"copy-paste-icon\"\n",
              "                 onclick=\"copyToClipboard('min_weight_fraction_leaf',\n",
              "                          this.parentElement.nextElementSibling)\"\n",
              "            ></i></td>\n",
              "            <td class=\"param\">min_weight_fraction_leaf&nbsp;</td>\n",
              "            <td class=\"value\">0.0</td>\n",
              "        </tr>\n",
              "    \n",
              "\n",
              "        <tr class=\"default\">\n",
              "            <td><i class=\"copy-paste-icon\"\n",
              "                 onclick=\"copyToClipboard('max_features',\n",
              "                          this.parentElement.nextElementSibling)\"\n",
              "            ></i></td>\n",
              "            <td class=\"param\">max_features&nbsp;</td>\n",
              "            <td class=\"value\">None</td>\n",
              "        </tr>\n",
              "    \n",
              "\n",
              "        <tr class=\"user-set\">\n",
              "            <td><i class=\"copy-paste-icon\"\n",
              "                 onclick=\"copyToClipboard('random_state',\n",
              "                          this.parentElement.nextElementSibling)\"\n",
              "            ></i></td>\n",
              "            <td class=\"param\">random_state&nbsp;</td>\n",
              "            <td class=\"value\">42</td>\n",
              "        </tr>\n",
              "    \n",
              "\n",
              "        <tr class=\"default\">\n",
              "            <td><i class=\"copy-paste-icon\"\n",
              "                 onclick=\"copyToClipboard('max_leaf_nodes',\n",
              "                          this.parentElement.nextElementSibling)\"\n",
              "            ></i></td>\n",
              "            <td class=\"param\">max_leaf_nodes&nbsp;</td>\n",
              "            <td class=\"value\">None</td>\n",
              "        </tr>\n",
              "    \n",
              "\n",
              "        <tr class=\"default\">\n",
              "            <td><i class=\"copy-paste-icon\"\n",
              "                 onclick=\"copyToClipboard('min_impurity_decrease',\n",
              "                          this.parentElement.nextElementSibling)\"\n",
              "            ></i></td>\n",
              "            <td class=\"param\">min_impurity_decrease&nbsp;</td>\n",
              "            <td class=\"value\">0.0</td>\n",
              "        </tr>\n",
              "    \n",
              "\n",
              "        <tr class=\"default\">\n",
              "            <td><i class=\"copy-paste-icon\"\n",
              "                 onclick=\"copyToClipboard('class_weight',\n",
              "                          this.parentElement.nextElementSibling)\"\n",
              "            ></i></td>\n",
              "            <td class=\"param\">class_weight&nbsp;</td>\n",
              "            <td class=\"value\">None</td>\n",
              "        </tr>\n",
              "    \n",
              "\n",
              "        <tr class=\"default\">\n",
              "            <td><i class=\"copy-paste-icon\"\n",
              "                 onclick=\"copyToClipboard('ccp_alpha',\n",
              "                          this.parentElement.nextElementSibling)\"\n",
              "            ></i></td>\n",
              "            <td class=\"param\">ccp_alpha&nbsp;</td>\n",
              "            <td class=\"value\">0.0</td>\n",
              "        </tr>\n",
              "    \n",
              "\n",
              "        <tr class=\"default\">\n",
              "            <td><i class=\"copy-paste-icon\"\n",
              "                 onclick=\"copyToClipboard('monotonic_cst',\n",
              "                          this.parentElement.nextElementSibling)\"\n",
              "            ></i></td>\n",
              "            <td class=\"param\">monotonic_cst&nbsp;</td>\n",
              "            <td class=\"value\">None</td>\n",
              "        </tr>\n",
              "    \n",
              "                  </tbody>\n",
              "                </table>\n",
              "            </details>\n",
              "        </div>\n",
              "    </div></div></div></div></div><script>function copyToClipboard(text, element) {\n",
              "    // Get the parameter prefix from the closest toggleable content\n",
              "    const toggleableContent = element.closest('.sk-toggleable__content');\n",
              "    const paramPrefix = toggleableContent ? toggleableContent.dataset.paramPrefix : '';\n",
              "    const fullParamName = paramPrefix ? `${paramPrefix}${text}` : text;\n",
              "\n",
              "    const originalStyle = element.style;\n",
              "    const computedStyle = window.getComputedStyle(element);\n",
              "    const originalWidth = computedStyle.width;\n",
              "    const originalHTML = element.innerHTML.replace('Copied!', '');\n",
              "\n",
              "    navigator.clipboard.writeText(fullParamName)\n",
              "        .then(() => {\n",
              "            element.style.width = originalWidth;\n",
              "            element.style.color = 'green';\n",
              "            element.innerHTML = \"Copied!\";\n",
              "\n",
              "            setTimeout(() => {\n",
              "                element.innerHTML = originalHTML;\n",
              "                element.style = originalStyle;\n",
              "            }, 2000);\n",
              "        })\n",
              "        .catch(err => {\n",
              "            console.error('Failed to copy:', err);\n",
              "            element.style.color = 'red';\n",
              "            element.innerHTML = \"Failed!\";\n",
              "            setTimeout(() => {\n",
              "                element.innerHTML = originalHTML;\n",
              "                element.style = originalStyle;\n",
              "            }, 2000);\n",
              "        });\n",
              "    return false;\n",
              "}\n",
              "\n",
              "document.querySelectorAll('.fa-regular.fa-copy').forEach(function(element) {\n",
              "    const toggleableContent = element.closest('.sk-toggleable__content');\n",
              "    const paramPrefix = toggleableContent ? toggleableContent.dataset.paramPrefix : '';\n",
              "    const paramName = element.parentElement.nextElementSibling.textContent.trim();\n",
              "    const fullParamName = paramPrefix ? `${paramPrefix}${paramName}` : paramName;\n",
              "\n",
              "    element.setAttribute('title', fullParamName);\n",
              "});\n",
              "</script></body>"
            ],
            "text/plain": [
              "DecisionTreeClassifier(random_state=42)"
            ]
          },
          "execution_count": 9,
          "metadata": {},
          "output_type": "execute_result"
        }
      ],
      "source": [
        "from sklearn.tree import DecisionTreeClassifier, export_text\n",
        "from sklearn.metrics import classification_report\n",
        "\n",
        "# Aplicar o TF-IDF Vectorizer\n",
        "tfidf_vectorizer = TfidfVectorizer() # Parametrizar se necessário\n",
        "X_train_tfidf = tfidf_vectorizer.fit_transform(X_train)\n",
        "\n",
        "\n",
        "### Classificador\n",
        "\n",
        "# Inicializar o classificador\n",
        "model = DecisionTreeClassifier(random_state=42)\n",
        "\n",
        "# Treinar o classificador\n",
        "model.fit(X_train_tfidf, y_train_encoded)"
      ]
    },
    {
      "cell_type": "markdown",
      "metadata": {
        "id": "Knbhh8nudIXQ"
      },
      "source": [
        "#### Investigando o DecisionTreeClassifier por dentro"
      ]
    },
    {
      "cell_type": "code",
      "execution_count": 10,
      "metadata": {
        "colab": {
          "base_uri": "https://localhost:8080/"
        },
        "id": "35zWCfcPaEAW",
        "outputId": "fabb065f-3a33-4297-8793-ad18fed1df67"
      },
      "outputs": [
        {
          "name": "stdout",
          "output_type": "stream",
          "text": [
            "|--- tenho <= 0.19\n",
            "|   |--- quê <= 0.21\n",
            "|   |   |--- gente <= 0.16\n",
            "|   |   |   |--- como <= 0.42\n",
            "|   |   |   |   |--- estou <= 0.32\n",
            "|   |   |   |   |   |--- eu <= 0.35\n",
            "|   |   |   |   |   |   |--- acontecendo <= 0.21\n",
            "|   |   |   |   |   |   |   |--- está <= 0.34\n",
            "|   |   |   |   |   |   |   |   |--- dúvida <= 0.22\n",
            "|   |   |   |   |   |   |   |   |   |--- jeito <= 0.24\n",
            "|   |   |   |   |   |   |   |   |   |   |--- minha <= 0.20\n",
            "|   |   |   |   |   |   |   |   |   |   |   |--- truncated branch of depth 19\n",
            "|   |   |   |   |   |   |   |   |   |   |--- minha >  0.20\n",
            "|   |   |   |   |   |   |   |   |   |   |   |--- class: 1\n",
            "|   |   |   |   |   |   |   |   |   |--- jeito >  0.24\n",
            "|   |   |   |   |   |   |   |   |   |   |--- class: 1\n",
            "|   |   |   |   |   |   |   |   |--- dúvida >  0.22\n",
            "|   |   |   |   |   |   |   |   |   |--- class: 1\n",
            "|   |   |   |   |   |   |   |--- está >  0.34\n",
            "|   |   |   |   |   |   |   |   |--- isso <= 0.12\n",
            "|   |   |   |   |   |   |   |   |   |--- certeza <= 0.25\n",
            "|   |   |   |   |   |   |   |   |   |   |--- class: 0\n",
            "|   |   |   |   |   |   |   |   |   |--- certeza >  0.25\n",
            "|   |   |   |   |   |   |   |   |   |   |--- class: 1\n",
            "|   |   |   |   |   |   |   |   |--- isso >  0.12\n",
            "|   |   |   |   |   |   |   |   |   |--- class: 1\n",
            "|   |   |   |   |   |   |--- acontecendo >  0.21\n",
            "|   |   |   |   |   |   |   |--- class: 0\n",
            "|   |   |   |   |   |--- eu >  0.35\n",
            "|   |   |   |   |   |   |--- eu <= 0.45\n",
            "|   |   |   |   |   |   |   |--- posso <= 0.26\n",
            "|   |   |   |   |   |   |   |   |--- class: 1\n",
            "|   |   |   |   |   |   |   |--- posso >  0.26\n",
            "|   |   |   |   |   |   |   |   |--- class: 0\n",
            "|   |   |   |   |   |   |--- eu >  0.45\n",
            "|   |   |   |   |   |   |   |--- não <= 0.42\n",
            "|   |   |   |   |   |   |   |   |--- class: 0\n",
            "|   |   |   |   |   |   |   |--- não >  0.42\n",
            "|   |   |   |   |   |   |   |   |--- class: 0\n",
            "|   |   |   |   |--- estou >  0.32\n",
            "|   |   |   |   |   |--- trabalhando <= 0.28\n",
            "|   |   |   |   |   |   |--- anotações <= 0.32\n",
            "|   |   |   |   |   |   |   |--- class: 0\n",
            "|   |   |   |   |   |   |--- anotações >  0.32\n",
            "|   |   |   |   |   |   |   |--- class: 0\n",
            "|   |   |   |   |   |--- trabalhando >  0.28\n",
            "|   |   |   |   |   |   |--- class: 0\n",
            "|   |   |   |--- como >  0.42\n",
            "|   |   |   |   |--- class: 0\n",
            "|   |   |--- gente >  0.16\n",
            "|   |   |   |--- class: 0\n",
            "|   |--- quê >  0.21\n",
            "|   |   |--- class: 0\n",
            "|--- tenho >  0.19\n",
            "|   |--- class: 1\n",
            "\n"
          ]
        }
      ],
      "source": [
        "# Criar a visualização da árvore de decisão\n",
        "print(export_text(model,\n",
        "                  feature_names=tfidf_vectorizer.get_feature_names_out()))"
      ]
    },
    {
      "cell_type": "code",
      "execution_count": 11,
      "metadata": {
        "colab": {
          "base_uri": "https://localhost:8080/"
        },
        "id": "8w02NND9cQi3",
        "outputId": "830aa5ce-089f-44c0-a01e-e8799508dd15"
      },
      "outputs": [
        {
          "data": {
            "text/plain": [
              "np.int64(269)"
            ]
          },
          "execution_count": 11,
          "metadata": {},
          "output_type": "execute_result"
        }
      ],
      "source": [
        "palavra = \"tenho\"\n",
        "\n",
        "ix = np.argwhere(tfidf_vectorizer.get_feature_names_out()==palavra)[0][0]\n",
        "ix"
      ]
    },
    {
      "cell_type": "code",
      "execution_count": 12,
      "metadata": {
        "colab": {
          "base_uri": "https://localhost:8080/"
        },
        "id": "4k_UunZQcJP4",
        "outputId": "d842e07b-0fda-4636-fa71-2c1930adcf6f"
      },
      "outputs": [
        {
          "data": {
            "text/plain": [
              "np.float64(0.7385186358375196)"
            ]
          },
          "execution_count": 12,
          "metadata": {},
          "output_type": "execute_result"
        }
      ],
      "source": [
        "tfidf_vectorizer.transform(['eu tenho a força']).toarray()[0,ix]"
      ]
    },
    {
      "cell_type": "markdown",
      "metadata": {
        "id": "ZwRTTRW-dGhz"
      },
      "source": [
        "#### Avaliando a performance do classificador nos dados de teste"
      ]
    },
    {
      "cell_type": "code",
      "execution_count": 13,
      "metadata": {
        "colab": {
          "base_uri": "https://localhost:8080/"
        },
        "id": "I8kFOuj3Z3Eo",
        "outputId": "a36e6d00-76aa-4e69-feb1-e6ca19bcccda"
      },
      "outputs": [
        {
          "name": "stdout",
          "output_type": "stream",
          "text": [
            "              precision    recall  f1-score   support\n",
            "\n",
            "           0       0.33      0.20      0.25         5\n",
            "           1       0.47      0.50      0.48        14\n",
            "           2       0.70      0.70      0.70        20\n",
            "\n",
            "   micro avg       0.58      0.56      0.57        39\n",
            "   macro avg       0.50      0.47      0.48        39\n",
            "weighted avg       0.57      0.56      0.56        39\n",
            " samples avg       0.56      0.56      0.56        39\n",
            "\n"
          ]
        },
        {
          "name": "stderr",
          "output_type": "stream",
          "text": [
            "/home/sleig/.cache/pypoetry/virtualenvs/notebooks-WtJaZIpw-py3.12/lib/python3.12/site-packages/sklearn/metrics/_classification.py:1731: UndefinedMetricWarning: Precision is ill-defined and being set to 0.0 in samples with no predicted labels. Use `zero_division` parameter to control this behavior.\n",
            "  _warn_prf(average, modifier, f\"{metric.capitalize()} is\", result.shape[0])\n"
          ]
        }
      ],
      "source": [
        "# Transformar os dados de teste usando o mesmo TF-IDF Vectorizer treinado nos dados de treino\n",
        "X_test_tfidf = tfidf_vectorizer.transform(X_test)\n",
        "\n",
        "# Fazer previsões no conjunto de teste\n",
        "predictions = model.predict(X_test_tfidf)\n",
        "\n",
        "# Avaliar o modelo\n",
        "print(classification_report(y_test_encoded, predictions))"
      ]
    },
    {
      "cell_type": "code",
      "execution_count": 14,
      "metadata": {
        "colab": {
          "base_uri": "https://localhost:8080/"
        },
        "id": "Ssohaw9EeZk3",
        "outputId": "ded93423-71b5-425c-b718-71cc46af07ab"
      },
      "outputs": [
        {
          "name": "stdout",
          "output_type": "stream",
          "text": [
            "              precision    recall  f1-score   support\n",
            "\n",
            "           0       0.50      0.20      0.29         5\n",
            "           1       0.86      0.43      0.57        14\n",
            "           2       0.70      0.70      0.70        20\n",
            "\n",
            "   micro avg       0.72      0.54      0.62        39\n",
            "   macro avg       0.69      0.44      0.52        39\n",
            "weighted avg       0.73      0.54      0.60        39\n",
            " samples avg       0.54      0.54      0.54        39\n",
            "\n"
          ]
        },
        {
          "name": "stderr",
          "output_type": "stream",
          "text": [
            "/home/sleig/.cache/pypoetry/virtualenvs/notebooks-WtJaZIpw-py3.12/lib/python3.12/site-packages/sklearn/metrics/_classification.py:1731: UndefinedMetricWarning: Precision is ill-defined and being set to 0.0 in samples with no predicted labels. Use `zero_division` parameter to control this behavior.\n",
            "  _warn_prf(average, modifier, f\"{metric.capitalize()} is\", result.shape[0])\n"
          ]
        }
      ],
      "source": [
        "# Testando um algoritmo mais avançado:\n",
        "from sklearn.ensemble import RandomForestClassifier\n",
        "\n",
        "# Aplicar o TF-IDF Vectorizer\n",
        "tfidf_vectorizer = TfidfVectorizer() # Parametrizar se necessário\n",
        "X_train_tfidf = tfidf_vectorizer.fit_transform(X_train)\n",
        "\n",
        "# Inicializar o classificador\n",
        "model_rf = RandomForestClassifier()\n",
        "\n",
        "# Treinar o classificador\n",
        "model_rf.fit(X_train_tfidf, y_train_encoded)\n",
        "\n",
        "# Transformar os dados de teste usando o mesmo TF-IDF Vectorizer treinado nos dados de treino\n",
        "X_test_tfidf = tfidf_vectorizer.transform(X_test)\n",
        "\n",
        "# Fazer previsões no conjunto de teste\n",
        "predictions_rf = model_rf.predict(X_test_tfidf)\n",
        "\n",
        "# Avaliar o modelo\n",
        "print(classification_report(y_test_encoded, predictions_rf))"
      ]
    },
    {
      "cell_type": "code",
      "execution_count": 15,
      "metadata": {
        "colab": {
          "base_uri": "https://localhost:8080/",
          "height": 565
        },
        "id": "bb2ad92f",
        "outputId": "b4a18ef0-8add-41cb-f056-9e08780c4a94"
      },
      "outputs": [
        {
          "data": {
            "image/png": "[encoded data removed]",
            "text/plain": [
              "<Figure size 1000x600 with 1 Axes>"
            ]
          },
          "metadata": {},
          "output_type": "display_data"
        }
      ],
      "source": [
        "import matplotlib.pyplot as plt\n",
        "import pandas as pd\n",
        "\n",
        "# Obter as importâncias das features do modelo RandomForest\n",
        "# Como o modelo está dentro de um pipeline, acessamos o estimador RandomForest\n",
        "feature_importances = model_rf.feature_importances_\n",
        "\n",
        "# Obter os nomes das features do TF-IDF Vectorizer\n",
        "feature_names = tfidf_vectorizer.get_feature_names_out()\n",
        "\n",
        "# Criar um DataFrame para facilitar a visualização\n",
        "feature_importance_df = pd.DataFrame({'feature': feature_names, 'importance': feature_importances})\n",
        "\n",
        "# Ordenar as features por importância e pegar as top 10\n",
        "top_10_features = feature_importance_df.sort_values(by='importance', ascending=False).head(10)\n",
        "\n",
        "# Plotar as top 10 features\n",
        "plt.figure(figsize=(10, 6))\n",
        "plt.barh(top_10_features['feature'], top_10_features['importance'])\n",
        "plt.xlabel('Importância da Feature')\n",
        "plt.ylabel('Feature (Palavra)')\n",
        "plt.title('Top 10 Features Mais Importantes (RandomForest)')\n",
        "plt.gca().invert_yaxis() # Inverter o eixo y para a feature mais importante ficar no topo\n",
        "plt.show()"
      ]
    },
    {
      "cell_type": "markdown",
      "metadata": {
        "id": "mjv61HTBeBJz"
      },
      "source": [
        "### Método B - Classificador com Embeddings e DecisionTreeClassifier"
      ]
    },
    {
      "cell_type": "markdown",
      "metadata": {
        "id": "k6mFV24yhgwy"
      },
      "source": [
        "![example-classification.png](data:image/png;base64,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)"
      ]
    },
    {
      "cell_type": "code",
      "execution_count": 16,
      "metadata": {
        "colab": {
          "base_uri": "https://localhost:8080/"
        },
        "id": "ssoTtOREgz_D",
        "outputId": "33fdae9b-948d-4dc3-95ee-7984d5fceb35"
      },
      "outputs": [
        {
          "ename": "ModuleNotFoundError",
          "evalue": "No module named 'tensorflow_hub'",
          "output_type": "error",
          "traceback": [
            "\u001b[31m---------------------------------------------------------------------------\u001b[39m",
            "\u001b[31mModuleNotFoundError\u001b[39m                       Traceback (most recent call last)",
            "\u001b[36mCell\u001b[39m\u001b[36m \u001b[39m\u001b[32mIn[16]\u001b[39m\u001b[32m, line 1\u001b[39m\n\u001b[32m----> \u001b[39m\u001b[32m1\u001b[39m \u001b[38;5;28;01mimport\u001b[39;00m\u001b[38;5;250m \u001b[39m\u001b[34;01mtensorflow_hub\u001b[39;00m\u001b[38;5;250m \u001b[39m\u001b[38;5;28;01mas\u001b[39;00m\u001b[38;5;250m \u001b[39m\u001b[34;01mhub\u001b[39;00m\n\u001b[32m      3\u001b[39m embeddings = hub.load(\u001b[33m\"\u001b[39m\u001b[33mhttps://www.kaggle.com/models/google/universal-sentence-encoder/TensorFlow2/universal-sentence-encoder/2\u001b[39m\u001b[33m\"\u001b[39m)\n\u001b[32m      5\u001b[39m embeddings\n",
            "\u001b[31mModuleNotFoundError\u001b[39m: No module named 'tensorflow_hub'"
          ]
        }
      ],
      "source": [
        "import tensorflow_hub as hub\n",
        "\n",
        "embeddings = hub.load(\"https://www.kaggle.com/models/google/universal-sentence-encoder/TensorFlow2/universal-sentence-encoder/2\")\n",
        "\n",
        "embeddings"
      ]
    },
    {
      "cell_type": "code",
      "execution_count": null,
      "metadata": {
        "colab": {
          "base_uri": "https://localhost:8080/"
        },
        "id": "ZO5JzHKfP_fX",
        "outputId": "7154543d-43a4-4e46-f7c6-64e2ee243cab"
      },
      "outputs": [
        {
          "data": {
            "text/plain": [
              "(154, 294)"
            ]
          },
          "execution_count": 15,
          "metadata": {},
          "output_type": "execute_result"
        }
      ],
      "source": [
        "X_train_tfidf.shape"
      ]
    },
    {
      "cell_type": "code",
      "execution_count": null,
      "metadata": {
        "colab": {
          "base_uri": "https://localhost:8080/"
        },
        "id": "ZH3-pxcEg_SI",
        "outputId": "684b1329-4254-409c-ad71-56256ef7256e"
      },
      "outputs": [
        {
          "data": {
            "text/plain": [
              "TensorShape([1, 512])"
            ]
          },
          "execution_count": 16,
          "metadata": {},
          "output_type": "execute_result"
        }
      ],
      "source": [
        "embeddings(['Hello world']).shape"
      ]
    },
    {
      "cell_type": "markdown",
      "metadata": {
        "id": "Ykw1vrhkixst"
      },
      "source": [
        "#### Embeddings são úteis para medir \"similaridade semântica\""
      ]
    },
    {
      "cell_type": "code",
      "execution_count": null,
      "metadata": {
        "colab": {
          "base_uri": "https://localhost:8080/"
        },
        "id": "j3nXOqkNi1sx",
        "outputId": "2377eeab-aa72-4fcb-9280-29f61ec74a24"
      },
      "outputs": [
        {
          "name": "stdout",
          "output_type": "stream",
          "text": [
            "Frase 1: Meu gato preto está dormindo na cadeira.\n",
            "Frase 2: Nosso felino escuro ta descansando no assento.\n",
            "Frase 3: My black cat is sleeping in the chair.\n",
            "\n",
            "--- Similaridade com TF-IDF ---\n",
            "Similaridade TF-IDF (Frase 1 vs Frase 2): 0.0000\n",
            "Similaridade TF-IDF (Frase 1 vs Frase 3): 0.0000\n",
            "Similaridade TF-IDF (Frase 2 vs Frase 3): 0.0000\n",
            "\n",
            "--- Similaridade com Embeddings (Universal Sentence Encoder) ---\n",
            "Similaridade Embeddings (Frase 1 vs Frase 2): 0.6203\n",
            "Similaridade Embeddings (Frase 1 vs Frase 3): 0.1987\n",
            "Similaridade Embeddings (Frase 2 vs Frase 3): 0.0520\n",
            "\n",
            "--- Análise ---\n"
          ]
        }
      ],
      "source": [
        "from sklearn.metrics.pairwise import cosine_similarity\n",
        "\n",
        "# Frases para comparação\n",
        "frase1 = \"Meu gato preto está dormindo na cadeira.\"\n",
        "frase2 = \"Nosso felino escuro ta descansando no assento.\"\n",
        "frase3 = \"My black cat is sleeping in the chair.\"\n",
        "\n",
        "print(f\"Frase 1: {frase1}\")\n",
        "print(f\"Frase 2: {frase2}\")\n",
        "print(f\"Frase 3: {frase3}\")\n",
        "\n",
        "# --- Similaridade com TF-IDF ---\n",
        "print(\"\\n--- Similaridade com TF-IDF ---\")\n",
        "\n",
        "# Transformar as frases usando o TF-IDF Vectorizer treinado anteriormente\n",
        "# É importante que o TF-IDF Vectorizer tenha sido ajustado em um corpus maior\n",
        "# para capturar melhor as relações das palavras. O vectorizer 'tfidf_vectorizer'\n",
        "# foi ajustado nos dados de treino do dataset original.\n",
        "tfidf_frase1 = tfidf_vectorizer.transform([frase1])\n",
        "tfidf_frase2 = tfidf_vectorizer.transform([frase2])\n",
        "tfidf_frase3 = tfidf_vectorizer.transform([frase3])\n",
        "\n",
        "# Calcular a similaridade de cosseno entre os vetores TF-IDF\n",
        "sim_tfidf_1_2 = cosine_similarity(tfidf_frase1, tfidf_frase2)[0][0]\n",
        "sim_tfidf_1_3 = cosine_similarity(tfidf_frase1, tfidf_frase3)[0][0]\n",
        "sim_tfidf_2_3 = cosine_similarity(tfidf_frase2, tfidf_frase3)[0][0]\n",
        "\n",
        "\n",
        "print(f\"Similaridade TF-IDF (Frase 1 vs Frase 2): {sim_tfidf_1_2:.4f}\")\n",
        "print(f\"Similaridade TF-IDF (Frase 1 vs Frase 3): {sim_tfidf_1_3:.4f}\")\n",
        "print(f\"Similaridade TF-IDF (Frase 2 vs Frase 3): {sim_tfidf_2_3:.4f}\")\n",
        "\n",
        "# --- Similaridade com Embeddings (Universal Sentence Encoder) ---\n",
        "print(\"\\n--- Similaridade com Embeddings (Universal Sentence Encoder) ---\")\n",
        "\n",
        "# Transformar as frases usando o modelo de embeddings\n",
        "embeddings_frase1 = embeddings([frase1])\n",
        "embeddings_frase2 = embeddings([frase2])\n",
        "embeddings_frase3 = embeddings([frase3])\n",
        "\n",
        "\n",
        "# Calcular a similaridade de cosseno entre os vetores de embeddings\n",
        "sim_embeddings_1_2 = cosine_similarity(embeddings_frase1, embeddings_frase2)[0][0]\n",
        "sim_embeddings_1_3 = cosine_similarity(embeddings_frase1, embeddings_frase3)[0][0]\n",
        "sim_embeddings_2_3 = cosine_similarity(embeddings_frase2, embeddings_frase3)[0][0]\n",
        "\n",
        "print(f\"Similaridade Embeddings (Frase 1 vs Frase 2): {sim_embeddings_1_2:.4f}\")\n",
        "print(f\"Similaridade Embeddings (Frase 1 vs Frase 3): {sim_embeddings_1_3:.4f}\")\n",
        "print(f\"Similaridade Embeddings (Frase 2 vs Frase 3): {sim_embeddings_2_3:.4f}\")\n",
        "\n",
        "print(\"\\n--- Análise ---\")"
      ]
    },
    {
      "cell_type": "markdown",
      "metadata": {
        "id": "rVdT_TfBjTTQ"
      },
      "source": [
        "#### Utilizando embeddings para treinar nosso classificador"
      ]
    },
    {
      "cell_type": "code",
      "execution_count": null,
      "metadata": {
        "colab": {
          "base_uri": "https://localhost:8080/"
        },
        "id": "e510882d",
        "outputId": "67679b37-e9c9-4f0f-e694-6e041aa5f3ce"
      },
      "outputs": [
        {
          "name": "stdout",
          "output_type": "stream",
          "text": [
            "Formato dos embeddings de treino: (154, 512)\n",
            "Formato dos embeddings de teste: (39, 512)\n"
          ]
        }
      ],
      "source": [
        "# Aplicar os embeddings nos dados de treino e teste\n",
        "X_train_embeddings = embeddings(X_train)\n",
        "X_test_embeddings = embeddings(X_test)\n",
        "\n",
        "print(\"Formato dos embeddings de treino:\", X_train_embeddings.shape)\n",
        "print(\"Formato dos embeddings de teste:\", X_test_embeddings.shape)"
      ]
    },
    {
      "cell_type": "code",
      "execution_count": null,
      "metadata": {
        "colab": {
          "base_uri": "https://localhost:8080/"
        },
        "id": "62023096",
        "outputId": "b02d08db-7ab3-4c05-f425-cdbe3a1ee5eb"
      },
      "outputs": [
        {
          "name": "stdout",
          "output_type": "stream",
          "text": [
            "Relatório de Classificação (Decision Tree com Embeddings):\n",
            "              precision    recall  f1-score   support\n",
            "\n",
            "           0       0.43      0.60      0.50         5\n",
            "           1       0.33      0.21      0.26        14\n",
            "           2       0.59      0.65      0.62        20\n",
            "\n",
            "   micro avg       0.50      0.49      0.49        39\n",
            "   macro avg       0.45      0.49      0.46        39\n",
            "weighted avg       0.48      0.49      0.48        39\n",
            " samples avg       0.49      0.49      0.49        39\n",
            "\n"
          ]
        },
        {
          "name": "stderr",
          "output_type": "stream",
          "text": [
            "/usr/local/lib/python3.12/dist-packages/sklearn/metrics/_classification.py:1565: UndefinedMetricWarning: Precision is ill-defined and being set to 0.0 in samples with no predicted labels. Use `zero_division` parameter to control this behavior.\n",
            "  _warn_prf(average, modifier, f\"{metric.capitalize()} is\", len(result))\n"
          ]
        }
      ],
      "source": [
        "from sklearn.tree import DecisionTreeClassifier\n",
        "from sklearn.metrics import classification_report\n",
        "\n",
        "# Inicializar o modelo Decision Tree\n",
        "model_embedding = DecisionTreeClassifier()\n",
        "\n",
        "# Treinar o modelo com os embeddings de treino e labels originais\n",
        "model_embedding.fit(X_train_embeddings, y_train_encoded)\n",
        "\n",
        "# Fazer previsões no conjunto de teste usando os embeddings de teste\n",
        "predictions_embedding = model_embedding.predict(X_test_embeddings)\n",
        "\n",
        "# Avaliar o modelo\n",
        "print(\"Relatório de Classificação (Decision Tree com Embeddings):\")\n",
        "print(classification_report(y_test_encoded, predictions_embedding))"
      ]
    },
    {
      "cell_type": "markdown",
      "metadata": {
        "id": "90cb0a6d"
      },
      "source": [
        "## 3 - Laboratório 3 - Introdução a classificação de texto\n",
        "\n",
        "Nesta tarefa, vocês aplicarão os conceitos de classificação de texto que exploramos neste notebook.\n",
        "\n",
        "O objetivo do laboratório será construir e avaliar um modelo de classificação capaz de prever a intenção de uma frase (confusão, certeza, ou afirmação neutra) usando técnicas como TF-IDF e Embeddings.\n",
        "\n",
        "\n",
        "### **Instruções**\n",
        "\n",
        "Sigam os passos abaixo, utilizando o código deste notebook como referência e adaptando-o quando necessário:\n",
        "\n",
        "#### Carregar os Dados:\n",
        "\n",
        "- Utilize o código inicial do notebook para carregar os dados do arquivo dados_confusão.txt.\n",
        "- Transforme os dados em um DataFrame pandas com as colunas 'text' e 'intent'.\n",
        "- Análise e Preparação dos Dados:\n",
        "\n",
        "- Verifique a distribuição das classes (intent) no dataset.\n",
        "- Divida o dataset em conjuntos de treino e teste (por exemplo, 80% treino, 20% teste).\n",
        "\n",
        "#### Classificação com TF-IDF e Decision Tree:\n",
        "\n",
        "- Aplique o TfidfVectorizer nos dados de treino (X_train).\n",
        "- Analise as palavras com maior pontuação TF-IDF, como fizemos no notebook.\n",
        "- Treine um modelo DecisionTreeClassifier utilizando os dados de treino transformados pelo TF-IDF (X_train_tfidf) e os rótulos de treino (y_train).\n",
        "- Transforme os dados de teste (X_test) usando o mesmo TfidfVectorizer treinado nos dados de treino.\n",
        "- Faça previsões no conjunto de teste.\n",
        "- Avalie a performance do modelo no conjunto de teste usando o classification_report. Analisem as métricas (Precision, Recall, F1-score) e o que elas indicam sobre o desempenho do modelo em cada classe.\n",
        "\n",
        "#### Classificação com Embeddings:\n",
        "\n",
        "- Aplique nos dados de treino (X_train) e teste (X_test) para obter os vetores de embeddings.\n",
        "- Treine um modelo DecisionTreeClassifier (ou outro classificador de sua escolha, como RandomForestClassifier) utilizando os embeddings de treino e os rótulos de treino.\n",
        "- Faça previsões no conjunto de teste usando os embeddings de teste.\n",
        "\n",
        "### Entrega\n",
        "\n",
        "Comparem o desempenho dos modelos respondendo às seguintes perguntas:\n",
        "\n",
        "- Compare os relatórios de classificação dos modelos treinados (TF-IDF + Decision Tree e Embeddings + Classificador).\n",
        "- Qual abordagem (TF-IDF vs. Embeddings) pareceu funcionar melhor para este dataset e por quê? Considerem o tamanho e a natureza dos dados.\n",
        "- Quais classes o(s) modelo(s) tiveram mais dificuldade em classificar corretamente? O que isso pode indicar?\n",
        "\n",
        "Submetam o código completo da tarefa (em notebook) e incluam células de texto no final do notebook para apresentar suas análises e respostas às perguntas."
      ]
    },
    {
      "cell_type": "markdown",
      "metadata": {
        "id": "tpYS_iVkT4nY"
      },
      "source": [
        "\n",
        "## Resposta\n",
        "\n",
        "1. Compare os relatórios de classificação dos modelos treinados (TF-IDF + Decision Tree e Embeddings + Classificador).\n",
        "- Resposta: ...\n",
        "\n",
        "\n",
        "2. Qual abordagem (TF-IDF vs. Embeddings) pareceu funcionar melhor para este dataset e por quê? Considerem o tamanho e a natureza dos dados.\n",
        "- Resposta: ...\n",
        "\n",
        "3. Quais classes o(s) modelo(s) tiveram mais dificuldade em classificar corretamente? O que isso pode indicar?\n",
        "- Resposta: ..."
      ]
    }
  ],
  "metadata": {
    "colab": {
      "provenance": []
    },
    "kernelspec": {
      "display_name": "notebooks-WtJaZIpw-py3.12",
      "language": "python",
      "name": "python3"
    },
    "language_info": {
      "codemirror_mode": {
        "name": "ipython",
        "version": 3
      },
      "file_extension": ".py",
      "mimetype": "text/x-python",
      "name": "python",
      "nbconvert_exporter": "python",
      "pygments_lexer": "ipython3",
      "version": "3.12.3"
    }
  },
  "nbformat": 4,
  "nbformat_minor": 0
}
